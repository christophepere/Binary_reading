{
 "cells": [
  {
   "cell_type": "markdown",
   "metadata": {},
   "source": [
    "<h1>Lire du binaire</h1>"
   ]
  },
  {
   "cell_type": "code",
   "execution_count": 1,
   "metadata": {},
   "outputs": [],
   "source": [
    "%matplotlib inline\n",
    "import numpy as np\n",
    "import matplotlib.pyplot as plt\n",
    "import pandas as pd"
   ]
  },
  {
   "cell_type": "code",
   "execution_count": 18,
   "metadata": {},
   "outputs": [],
   "source": [
    "# ---- Path of the file \n",
    "path = 'Fichiers_bin/000BABA837AA_20160907_073441AsBin/'"
   ]
  },
  {
   "cell_type": "code",
   "execution_count": 22,
   "metadata": {},
   "outputs": [],
   "source": [
    "# ---- Extract binary value with numpy \n",
    "data = np.fromfile(path+'TS_LI_Front.bin')"
   ]
  },
  {
   "cell_type": "code",
   "execution_count": 23,
   "metadata": {},
   "outputs": [],
   "source": [
    "# ---- Extract colum's name for the matrix \n",
    "header = pd.read_csv(path+'TS_LI_Front_Header.csv')"
   ]
  },
  {
   "cell_type": "code",
   "execution_count": 24,
   "metadata": {},
   "outputs": [],
   "source": [
    "# ---- Reshape the vector in matrix \n",
    "data = data.reshape(header.shape[1], int(data.shape[0]/header.shape[1]))"
   ]
  },
  {
   "cell_type": "code",
   "execution_count": 25,
   "metadata": {},
   "outputs": [
    {
     "data": {
      "text/plain": [
       "(31, 7243192)"
      ]
     },
     "execution_count": 25,
     "metadata": {},
     "output_type": "execute_result"
    }
   ],
   "source": [
    "# ---- Verification\n",
    "data.shape"
   ]
  },
  {
   "cell_type": "code",
   "execution_count": 26,
   "metadata": {},
   "outputs": [],
   "source": [
    "# ---- Create a dataframe from the data\n",
    "TS_CMP_25Hz = pd.DataFrame(data=data.T, columns=header.columns)"
   ]
  },
  {
   "cell_type": "code",
   "execution_count": 27,
   "metadata": {},
   "outputs": [
    {
     "data": {
      "text/html": [
       "<div>\n",
       "<style scoped>\n",
       "    .dataframe tbody tr th:only-of-type {\n",
       "        vertical-align: middle;\n",
       "    }\n",
       "\n",
       "    .dataframe tbody tr th {\n",
       "        vertical-align: top;\n",
       "    }\n",
       "\n",
       "    .dataframe thead th {\n",
       "        text-align: right;\n",
       "    }\n",
       "</style>\n",
       "<table border=\"1\" class=\"dataframe\">\n",
       "  <thead>\n",
       "    <tr style=\"text-align: right;\">\n",
       "      <th></th>\n",
       "      <th>Time</th>\n",
       "      <th>Mux</th>\n",
       "      <th>LI_Front_obj_nbContourPoints</th>\n",
       "      <th>LI_Front_obj_isTrackedByStationaryModel</th>\n",
       "      <th>LI_Front_obj_isMotionModelValidated</th>\n",
       "      <th>LI_Front_obj_isMobile</th>\n",
       "      <th>LI_Front_obj_relativeVelocities_Y</th>\n",
       "      <th>LI_Front_obj_relativeVelocities_X</th>\n",
       "      <th>LI_Front_obj_referencePoints_Y</th>\n",
       "      <th>LI_Front_obj_referencePoints_X</th>\n",
       "      <th>...</th>\n",
       "      <th>LI_Front_obj_absoluteVelocities_X</th>\n",
       "      <th>LI_Front_obj_timestamps</th>\n",
       "      <th>LI_Front_obj_referencePointLocations</th>\n",
       "      <th>LI_Front_obj_predictionAges</th>\n",
       "      <th>LI_Front_obj_objectBoxOrientations</th>\n",
       "      <th>LI_Front_obj_ids</th>\n",
       "      <th>LI_Front_obj_classifications</th>\n",
       "      <th>LI_Front_obj_classificationConfidences</th>\n",
       "      <th>LI_Front_obj_classificationAges</th>\n",
       "      <th>LI_Front_obj_ages</th>\n",
       "    </tr>\n",
       "  </thead>\n",
       "  <tbody>\n",
       "    <tr>\n",
       "      <th>0</th>\n",
       "      <td>0.196717</td>\n",
       "      <td>1.0</td>\n",
       "      <td>8.0</td>\n",
       "      <td>1.0</td>\n",
       "      <td>0.0</td>\n",
       "      <td>0.0</td>\n",
       "      <td>0.0</td>\n",
       "      <td>0.0</td>\n",
       "      <td>7.35</td>\n",
       "      <td>3.89</td>\n",
       "      <td>...</td>\n",
       "      <td>0.0</td>\n",
       "      <td>1151.0</td>\n",
       "      <td>9.0</td>\n",
       "      <td>0.0</td>\n",
       "      <td>13.95</td>\n",
       "      <td>1.0</td>\n",
       "      <td>2.0</td>\n",
       "      <td>31.0</td>\n",
       "      <td>65520.0</td>\n",
       "      <td>2134.0</td>\n",
       "    </tr>\n",
       "    <tr>\n",
       "      <th>1</th>\n",
       "      <td>0.223247</td>\n",
       "      <td>1.0</td>\n",
       "      <td>8.0</td>\n",
       "      <td>1.0</td>\n",
       "      <td>0.0</td>\n",
       "      <td>0.0</td>\n",
       "      <td>0.0</td>\n",
       "      <td>0.0</td>\n",
       "      <td>7.35</td>\n",
       "      <td>3.89</td>\n",
       "      <td>...</td>\n",
       "      <td>0.0</td>\n",
       "      <td>1152.0</td>\n",
       "      <td>9.0</td>\n",
       "      <td>0.0</td>\n",
       "      <td>13.95</td>\n",
       "      <td>1.0</td>\n",
       "      <td>2.0</td>\n",
       "      <td>31.0</td>\n",
       "      <td>65520.0</td>\n",
       "      <td>2135.0</td>\n",
       "    </tr>\n",
       "    <tr>\n",
       "      <th>2</th>\n",
       "      <td>0.266867</td>\n",
       "      <td>1.0</td>\n",
       "      <td>7.0</td>\n",
       "      <td>1.0</td>\n",
       "      <td>0.0</td>\n",
       "      <td>0.0</td>\n",
       "      <td>0.0</td>\n",
       "      <td>0.0</td>\n",
       "      <td>7.35</td>\n",
       "      <td>3.89</td>\n",
       "      <td>...</td>\n",
       "      <td>0.0</td>\n",
       "      <td>1153.0</td>\n",
       "      <td>9.0</td>\n",
       "      <td>0.0</td>\n",
       "      <td>13.95</td>\n",
       "      <td>1.0</td>\n",
       "      <td>2.0</td>\n",
       "      <td>31.0</td>\n",
       "      <td>65520.0</td>\n",
       "      <td>2136.0</td>\n",
       "    </tr>\n",
       "    <tr>\n",
       "      <th>3</th>\n",
       "      <td>0.301814</td>\n",
       "      <td>1.0</td>\n",
       "      <td>6.0</td>\n",
       "      <td>1.0</td>\n",
       "      <td>0.0</td>\n",
       "      <td>0.0</td>\n",
       "      <td>0.0</td>\n",
       "      <td>0.0</td>\n",
       "      <td>7.35</td>\n",
       "      <td>3.89</td>\n",
       "      <td>...</td>\n",
       "      <td>0.0</td>\n",
       "      <td>1153.0</td>\n",
       "      <td>9.0</td>\n",
       "      <td>0.0</td>\n",
       "      <td>13.94</td>\n",
       "      <td>1.0</td>\n",
       "      <td>2.0</td>\n",
       "      <td>31.0</td>\n",
       "      <td>65520.0</td>\n",
       "      <td>2137.0</td>\n",
       "    </tr>\n",
       "    <tr>\n",
       "      <th>4</th>\n",
       "      <td>0.347374</td>\n",
       "      <td>1.0</td>\n",
       "      <td>6.0</td>\n",
       "      <td>1.0</td>\n",
       "      <td>0.0</td>\n",
       "      <td>0.0</td>\n",
       "      <td>0.0</td>\n",
       "      <td>0.0</td>\n",
       "      <td>7.36</td>\n",
       "      <td>3.89</td>\n",
       "      <td>...</td>\n",
       "      <td>0.0</td>\n",
       "      <td>1149.0</td>\n",
       "      <td>9.0</td>\n",
       "      <td>0.0</td>\n",
       "      <td>13.94</td>\n",
       "      <td>1.0</td>\n",
       "      <td>2.0</td>\n",
       "      <td>31.0</td>\n",
       "      <td>65520.0</td>\n",
       "      <td>2138.0</td>\n",
       "    </tr>\n",
       "  </tbody>\n",
       "</table>\n",
       "<p>5 rows × 31 columns</p>\n",
       "</div>"
      ],
      "text/plain": [
       "       Time   Mux   LI_Front_obj_nbContourPoints  \\\n",
       "0  0.196717   1.0                            8.0   \n",
       "1  0.223247   1.0                            8.0   \n",
       "2  0.266867   1.0                            7.0   \n",
       "3  0.301814   1.0                            6.0   \n",
       "4  0.347374   1.0                            6.0   \n",
       "\n",
       "    LI_Front_obj_isTrackedByStationaryModel  \\\n",
       "0                                       1.0   \n",
       "1                                       1.0   \n",
       "2                                       1.0   \n",
       "3                                       1.0   \n",
       "4                                       1.0   \n",
       "\n",
       "    LI_Front_obj_isMotionModelValidated   LI_Front_obj_isMobile  \\\n",
       "0                                   0.0                     0.0   \n",
       "1                                   0.0                     0.0   \n",
       "2                                   0.0                     0.0   \n",
       "3                                   0.0                     0.0   \n",
       "4                                   0.0                     0.0   \n",
       "\n",
       "    LI_Front_obj_relativeVelocities_Y   LI_Front_obj_relativeVelocities_X  \\\n",
       "0                                 0.0                                 0.0   \n",
       "1                                 0.0                                 0.0   \n",
       "2                                 0.0                                 0.0   \n",
       "3                                 0.0                                 0.0   \n",
       "4                                 0.0                                 0.0   \n",
       "\n",
       "    LI_Front_obj_referencePoints_Y   LI_Front_obj_referencePoints_X  \\\n",
       "0                             7.35                             3.89   \n",
       "1                             7.35                             3.89   \n",
       "2                             7.35                             3.89   \n",
       "3                             7.35                             3.89   \n",
       "4                             7.36                             3.89   \n",
       "\n",
       "          ...           LI_Front_obj_absoluteVelocities_X  \\\n",
       "0         ...                                         0.0   \n",
       "1         ...                                         0.0   \n",
       "2         ...                                         0.0   \n",
       "3         ...                                         0.0   \n",
       "4         ...                                         0.0   \n",
       "\n",
       "    LI_Front_obj_timestamps   LI_Front_obj_referencePointLocations  \\\n",
       "0                    1151.0                                    9.0   \n",
       "1                    1152.0                                    9.0   \n",
       "2                    1153.0                                    9.0   \n",
       "3                    1153.0                                    9.0   \n",
       "4                    1149.0                                    9.0   \n",
       "\n",
       "    LI_Front_obj_predictionAges   LI_Front_obj_objectBoxOrientations  \\\n",
       "0                           0.0                                13.95   \n",
       "1                           0.0                                13.95   \n",
       "2                           0.0                                13.95   \n",
       "3                           0.0                                13.94   \n",
       "4                           0.0                                13.94   \n",
       "\n",
       "    LI_Front_obj_ids   LI_Front_obj_classifications  \\\n",
       "0                1.0                            2.0   \n",
       "1                1.0                            2.0   \n",
       "2                1.0                            2.0   \n",
       "3                1.0                            2.0   \n",
       "4                1.0                            2.0   \n",
       "\n",
       "    LI_Front_obj_classificationConfidences   LI_Front_obj_classificationAges  \\\n",
       "0                                     31.0                           65520.0   \n",
       "1                                     31.0                           65520.0   \n",
       "2                                     31.0                           65520.0   \n",
       "3                                     31.0                           65520.0   \n",
       "4                                     31.0                           65520.0   \n",
       "\n",
       "    LI_Front_obj_ages  \n",
       "0              2134.0  \n",
       "1              2135.0  \n",
       "2              2136.0  \n",
       "3              2137.0  \n",
       "4              2138.0  \n",
       "\n",
       "[5 rows x 31 columns]"
      ]
     },
     "execution_count": 27,
     "metadata": {},
     "output_type": "execute_result"
    }
   ],
   "source": [
    "TS_CMP_25Hz.head()"
   ]
  },
  {
   "cell_type": "code",
   "execution_count": 29,
   "metadata": {},
   "outputs": [
    {
     "data": {
      "text/plain": [
       "<matplotlib.legend.Legend at 0x138c867b8>"
      ]
     },
     "execution_count": 29,
     "metadata": {},
     "output_type": "execute_result"
    },
    {
     "data": {
      "image/png": "[encoded data removed]",
      "text/plain": [
       "<Figure size 1080x504 with 1 Axes>"
      ]
     },
     "metadata": {
      "needs_background": "light"
     },
     "output_type": "display_data"
    }
   ],
   "source": [
    "# ---- Make a figure \n",
    "plt.figure(figsize=(15,7))\n",
    "index_col = 2 \n",
    "plt.plot(TS_CMP_25Hz.iloc[:100000,0], TS_CMP_25Hz.iloc[:100000,index_col], label=TS_CMP_25Hz.columns[index_col])\n",
    "plt.grid(True)\n",
    "plt.xlabel(TS_CMP_25Hz.columns[0]+' (s)')\n",
    "plt.ylabel(TS_CMP_25Hz.columns[index_col]+' (m)')\n",
    "plt.legend()"
   ]
  },
  {
   "cell_type": "code",
   "execution_count": 30,
   "metadata": {},
   "outputs": [],
   "source": [
    "TS_CMP_25Hz.iloc[:10, :].to_csv('test.csv')"
   ]
  },
  {
   "cell_type": "code",
   "execution_count": null,
   "metadata": {},
   "outputs": [],
   "source": []
  }
 ],
 "metadata": {
  "kernelspec": {
   "display_name": "Python 3",
   "language": "python",
   "name": "python3"
  },
  "language_info": {
   "codemirror_mode": {
    "name": "ipython",
    "version": 3
   },
   "file_extension": ".py",
   "mimetype": "text/x-python",
   "name": "python",
   "nbconvert_exporter": "python",
   "pygments_lexer": "ipython3",
   "version": "3.6.5"
  }
 },
 "nbformat": 4,
 "nbformat_minor": 2
}
